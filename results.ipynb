{
 "cells": [
  {
   "cell_type": "markdown",
   "metadata": {},
   "source": [
    "## Result of optuna hyperparameters search using SLIM Elastic Net Model\n",
    "\n",
    "The followings are the search spaces used for the hyperparameters:\n",
    "- topK: 0-999\n",
    "- l1_ratio: 1e-4 - 0.1\n",
    "- alpha: 1e-3 - 0.01\n",
    "\n",
    "We run 26 training processes in parallel, each one with 20 iterations, using kaggle and colab notebooks"
   ]
  },
  {
   "cell_type": "markdown",
   "metadata": {},
   "source": [
    "| Output | l1_ratio | alpha | topK | MyMAP | LeaderboardMap |\n",
    "| --- | --- | --- | --- | --- | --- |\n",
    "| 1 | 0.06390431044861844 | 0.0012467837064193649 | 290 | 0.0510 | 0.13755 |\n",
    "| 2 | 0.03246005029714418 | 0.0012935094841028765 | 685 | 0.0355426 | ? |\n",
    "|  |  |  |  |  |  |"
   ]
  }
 ],
 "metadata": {
  "language_info": {
   "name": "python"
  }
 },
 "nbformat": 4,
 "nbformat_minor": 2
}
