{
 "cells": [
  {
   "cell_type": "markdown",
   "metadata": {},
   "source": [
    "## Best parameters for every model used\n",
    "\n",
    "The search spaces used for the hyperparameters are:\n",
    "- SLIM\n",
    "    - topK: 0 - 999             (int)\n",
    "    - l1_ratio: 0.0001 - 0.1    (float, log)\n",
    "    - alpha: 0.001 - 0.01       (float)\n",
    "- RP3beta\n",
    "    - topK: 5 - 1000            (int)\n",
    "    - alpha: 0 - 2              (float)\n",
    "    - beta: 0 - 2               (float)\n",
    "- Hybrid\n",
    "    - topK: 1 - 1500            (int)\n",
    "    - alpha: 0 - 1              (float)\n",
    "    - beta: 0 - 1               (float)"
   ]
  },
  {
   "cell_type": "markdown",
   "metadata": {},
   "source": [
    "| Model | l1_ratio | alpha | topK | MyMAP | LeaderboardMap |\n",
    "| --- | --- | --- | --- | --- | --- |\n",
    "| SLIM Elastic Net | 0.06500647156021869 | 0.0010484127187467302 | 549 | 0.05152 | 0.13905 |"
   ]
  },
  {
   "cell_type": "markdown",
   "metadata": {},
   "source": [
    "| Model | alpha | beta | topK | normalize | MyMAP | LeaderboardMap |\n",
    "| --- | --- | --- | --- | --- | --- | --- |\n",
    "| RP3beta | 0.28449935654625247 | 0.11366112485546402 | 36 | True | 0.05043 | ? |"
   ]
  },
  {
   "cell_type": "markdown",
   "metadata": {},
   "source": [
    "| Model | alpha | beta | topK | MyMAP | LeaderboardMap |\n",
    "| --- | --- | --- | --- | --- | --- |\n",
    "| Hybrid | 0.5860907274132556 | 0.4229936237856761 | 573 | 0.05267 | 0.14042 |"
   ]
  }
 ],
 "metadata": {
  "language_info": {
   "name": "python"
  }
 },
 "nbformat": 4,
 "nbformat_minor": 2
}
