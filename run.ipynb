{
 "cells": [
  {
   "cell_type": "code",
   "execution_count": 19,
   "metadata": {},
   "outputs": [],
   "source": [
    "from Utils.my_utils import *\n",
    "from Recommenders.KNN.ItemKNNCFRecommender import *\n",
    "import numpy as np\n",
    "from Evaluation.Evaluator import EvaluatorHoldout\n",
    "from Recommenders.NonPersonalizedRecommender import *\n",
    "import os"
   ]
  },
  {
   "cell_type": "code",
   "execution_count": 20,
   "metadata": {},
   "outputs": [
    {
     "name": "stdout",
     "output_type": "stream",
     "text": [
      "Warning: 213 (1.69 %) of 12638 users have no train items\n",
      "Warning: 2227 (17.62 %) of 12638 users have no sampled items\n",
      "Warning: 455 (3.60 %) of 12638 users have no train items\n",
      "Warning: 2602 (20.59 %) of 12638 users have no sampled items\n"
     ]
    }
   ],
   "source": [
    "np.random.seed(1234)\n",
    "users, items, users_to_eval = readData()\n",
    "URM, user_originalID_to_index, item_originalID_to_index, item_index_to_originalID = preProcess()\n",
    "URM_train_full, URM_train, URM_test, URM_validation = splitURM(URM)"
   ]
  },
  {
   "cell_type": "code",
   "execution_count": 21,
   "metadata": {},
   "outputs": [
    {
     "name": "stdout",
     "output_type": "stream",
     "text": [
      "EvaluatorHoldout: Ignoring 2602 (20.6%) Users that have less than 1 test interactions\n",
      "EvaluatorHoldout: Ignoring 2227 (17.6%) Users that have less than 1 test interactions\n"
     ]
    }
   ],
   "source": [
    "evaluator_validation = EvaluatorHoldout(URM_validation, cutoff_list=[10])\n",
    "evaluator_test = EvaluatorHoldout(URM_test, cutoff_list=[10])"
   ]
  },
  {
   "cell_type": "code",
   "execution_count": 22,
   "metadata": {},
   "outputs": [],
   "source": [
    "output_folder_path = \"result_best_models/\"\n",
    "if not os.path.exists(output_folder_path):\n",
    "    os.makedirs(output_folder_path)"
   ]
  },
  {
   "cell_type": "code",
   "execution_count": 23,
   "metadata": {},
   "outputs": [
    {
     "name": "stdout",
     "output_type": "stream",
     "text": [
      "ItemKNNCFRecommender: URM Detected 213 ( 1.7%) users with no interactions.\n",
      "ItemKNNCFRecommender: URM Detected 102 ( 0.5%) items with no interactions.\n",
      "ItemKNNCFRecommender: Loading model from file 'result_best_models/ItemKNNCFRecommender_my_own_save.zip'\n",
      "ItemKNNCFRecommender: Loading complete\n"
     ]
    }
   ],
   "source": [
    "# load the model with all best parameters\n",
    "recommender_object = ItemKNNCFRecommender(URM_train_full)\n",
    "recommender_object.load_model(output_folder_path, file_name = recommender_object.RECOMMENDER_NAME + \"_my_own_save.zip\")"
   ]
  },
  {
   "cell_type": "code",
   "execution_count": 24,
   "metadata": {},
   "outputs": [
    {
     "name": "stdout",
     "output_type": "stream",
     "text": [
      "TopPopRecommender: URM Detected 213 ( 1.7%) users with no interactions.\n",
      "TopPopRecommender: URM Detected 102 ( 0.5%) items with no interactions.\n",
      "TopPopRecommender: Loading model from file 'result_best_models/TopPopRecommender_my_own_save.zip'\n",
      "TopPopRecommender: Loading complete\n"
     ]
    }
   ],
   "source": [
    "# define and load recommender\n",
    "recommender_object_top_pop = TopPop(URM_train_full)\n",
    "recommender_object_top_pop.load_model(output_folder_path, file_name = recommender_object_top_pop.RECOMMENDER_NAME + \"_my_own_save.zip\")"
   ]
  },
  {
   "cell_type": "code",
   "execution_count": 25,
   "metadata": {},
   "outputs": [],
   "source": [
    "# recommend items to users\n",
    "rec_items_ind = []\n",
    "for user_id in users_to_eval:\n",
    "    if(user_id in users):\n",
    "        # recommend users for which we already have some ratings\n",
    "        rec_items_ind.append(recommender_object.recommend(user_originalID_to_index[user_id], cutoff=10))\n",
    "    else:\n",
    "        # recommend users with no stored rating\n",
    "        rec_items_ind.append(recommender_object_top_pop.recommend(user_id, cutoff=10, remove_seen_flag=False))"
   ]
  },
  {
   "cell_type": "code",
   "execution_count": 26,
   "metadata": {},
   "outputs": [
    {
     "name": "stdout",
     "output_type": "stream",
     "text": [
      "Recommender results are: Precision = 0.1162, Recall = 0.0942, MAP = 0.0935\n"
     ]
    }
   ],
   "source": [
    "# evaluate recommender\n",
    "evaluate_algorithm(URM_test, recommender_object)"
   ]
  },
  {
   "cell_type": "code",
   "execution_count": 27,
   "metadata": {},
   "outputs": [],
   "source": [
    "storeRecommendations(users_to_eval, rec_items_ind, item_index_to_originalID)"
   ]
  }
 ],
 "metadata": {
  "kernelspec": {
   "display_name": "base",
   "language": "python",
   "name": "python3"
  },
  "language_info": {
   "codemirror_mode": {
    "name": "ipython",
    "version": 3
   },
   "file_extension": ".py",
   "mimetype": "text/x-python",
   "name": "python",
   "nbconvert_exporter": "python",
   "pygments_lexer": "ipython3",
   "version": "3.9.7"
  }
 },
 "nbformat": 4,
 "nbformat_minor": 2
}
