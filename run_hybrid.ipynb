{
 "cells": [
  {
   "cell_type": "code",
   "execution_count": null,
   "metadata": {},
   "outputs": [],
   "source": [
    "from Utils.my_utils import *\n",
    "import numpy as np\n",
    "from Recommenders.SLIM.SLIMElasticNetRecommender import *\n",
    "from Recommenders.GraphBased.RP3betaRecommender import *\n",
    "from Evaluation.Evaluator import EvaluatorHoldout\n",
    "import os"
   ]
  },
  {
   "cell_type": "code",
   "execution_count": null,
   "metadata": {},
   "outputs": [],
   "source": [
    "# seed to be set\n",
    "seed = 865\n",
    "np.random.seed(seed)\n",
    "users, items, users_to_eval = readData()\n",
    "URM = newPreProcess()\n",
    "URM_train_full, URM_train, URM_test, URM_validation = splitURM(URM)\n",
    "\n",
    "output_folder_path = \"result_best_models/\" + str(seed) + \"/\"\n",
    "if not os.path.exists(output_folder_path):\n",
    "    os.makedirs(output_folder_path)\n",
    "\n",
    "\n",
    "evaluator_validation = EvaluatorHoldout(URM_validation, cutoff_list=[10])\n",
    "evaluator_test = EvaluatorHoldout(URM_test, cutoff_list=[10])"
   ]
  },
  {
   "cell_type": "code",
   "execution_count": null,
   "metadata": {},
   "outputs": [],
   "source": [
    "# load RP3beta with all best parameters\n",
    "recommender_object1 = RP3betaRecommender(URM_train_full)\n",
    "recommender_object1.load_model(output_folder_path, file_name = recommender_object1.RECOMMENDER_NAME + \"_my_own_save.zip\")"
   ]
  },
  {
   "cell_type": "code",
   "execution_count": null,
   "metadata": {},
   "outputs": [],
   "source": [
    "# load SLIM with all best parameters\n",
    "recommender_object2 = SLIMElasticNetRecommender(URM_train_full)\n",
    "recommender_object2.load_model(output_folder_path, file_name = recommender_object2.RECOMMENDER_NAME + \"_my_own_save.zip\")"
   ]
  },
  {
   "cell_type": "code",
   "execution_count": null,
   "metadata": {},
   "outputs": [],
   "source": [
    "# evaluate recommender\n",
    "evaluate_recommendations(URM_test, recommender_object1, recommender_object2, at=10)"
   ]
  },
  {
   "cell_type": "code",
   "execution_count": null,
   "metadata": {},
   "outputs": [],
   "source": [
    "# recommend items to users\n",
    "recommendations1 = recommender_object1.recommend(users_to_eval, cutoff=10)\n",
    "recommendations2 = recommender_object2.recommend(users_to_eval, cutoff=10)\n",
    "recommendations = merge_recommendations(recommendations1, recommendations2)\n",
    "\n",
    "newStoreRecommendations(users_to_eval, recommendations)\n",
    "# ATTENZIONE output.csv non va bene\n",
    "# TODO sistemare output.csv"
   ]
  }
 ],
 "metadata": {
  "kernelspec": {
   "display_name": "base",
   "language": "python",
   "name": "python3"
  },
  "language_info": {
   "codemirror_mode": {
    "name": "ipython",
    "version": 3
   },
   "file_extension": ".py",
   "mimetype": "text/x-python",
   "name": "python",
   "nbconvert_exporter": "python",
   "pygments_lexer": "ipython3",
   "version": "3.9.7"
  }
 },
 "nbformat": 4,
 "nbformat_minor": 2
}
