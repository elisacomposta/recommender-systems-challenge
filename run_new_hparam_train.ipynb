{
 "cells": [
  {
   "cell_type": "code",
   "execution_count": 4,
   "metadata": {},
   "outputs": [],
   "source": [
    "from Utils.my_utils import *\n",
    "from Recommenders.GraphBased.P3alphaRecommender import *\n",
    "import numpy as np\n",
    "from Evaluation.Evaluator import EvaluatorHoldout\n",
    "from HyperparameterTuning.run_hyperparameter_search import runHyperparameterSearch_Collaborative\n",
    "from Recommenders.NonPersonalizedRecommender import *\n",
    "import os\n",
    "from random import randint, seed"
   ]
  },
  {
   "cell_type": "code",
   "execution_count": 6,
   "metadata": {},
   "outputs": [
    {
     "name": "stdout",
     "output_type": "stream",
     "text": [
      "Seed: 251\n",
      "Warning: 625 (4.80 %) of 13025 users have no train items\n",
      "Warning: 2494 (19.15 %) of 13025 users have no sampled items\n",
      "Warning: 874 (6.71 %) of 13025 users have no train items\n",
      "Warning: 3026 (23.23 %) of 13025 users have no sampled items\n"
     ]
    }
   ],
   "source": [
    "# setta anche il seed di random per sicurezza\n",
    "seed = randint(1,1000)\n",
    "print(\"Seed: \" +str(seed))\n",
    "np.random.seed(seed)\n",
    "users, items, users_to_eval = readData()\n",
    "URM = newPreProcess()\n",
    "URM_train_full, URM_train, URM_test, URM_validation = splitURM(URM)"
   ]
  },
  {
   "cell_type": "code",
   "execution_count": 7,
   "metadata": {},
   "outputs": [
    {
     "name": "stdout",
     "output_type": "stream",
     "text": [
      "EvaluatorHoldout: Ignoring 3026 (23.2%) Users that have less than 1 test interactions\n",
      "EvaluatorHoldout: Ignoring 2494 (19.1%) Users that have less than 1 test interactions\n"
     ]
    }
   ],
   "source": [
    "evaluator_validation = EvaluatorHoldout(URM_validation, cutoff_list=[10])\n",
    "evaluator_test = EvaluatorHoldout(URM_test, cutoff_list=[10])"
   ]
  },
  {
   "cell_type": "code",
   "execution_count": 8,
   "metadata": {},
   "outputs": [],
   "source": [
    "output_folder_path = \"result_experiments/\"\n",
    "if not os.path.exists(output_folder_path):\n",
    "    os.makedirs(output_folder_path)\n",
    "\n",
    "saved_folder_path = \"result_best_models/\"\n",
    "if not os.path.exists(saved_folder_path):\n",
    "    os.makedirs(saved_folder_path)\n",
    "    \n",
    "recommender_class = P3alphaRecommender    \n",
    "n_cases = 10\n",
    "n_random_starts = int(n_cases*0.3)\n",
    "metric_to_optimize = \"MAP\"   \n",
    "cutoff_to_optimize = 10"
   ]
  },
  {
   "cell_type": "code",
   "execution_count": 9,
   "metadata": {},
   "outputs": [
    {
     "name": "stdout",
     "output_type": "stream",
     "text": [
      "SearchBayesianSkopt: Resuming 'P3alphaRecommender' Failed, no such file exists.\n",
      "\n",
      "Iteration No: 1 started. Evaluating function at random point.\n",
      "SearchBayesianSkopt: Testing config: {'topK': 752, 'alpha': 0.7270844505807418, 'normalize_similarity': False}\n",
      "P3alphaRecommender: URM Detected 874 ( 6.7%) users with no interactions.\n",
      "P3alphaRecommender: URM Detected 446 ( 2.0%) items with no interactions.\n",
      "P3alphaRecommender: Similarity column 22348 (100.0%), 1291.63 column/sec. Elapsed time 17.30 sec\n",
      "EvaluatorHoldout: Processed 9999 (100.0%) in 8.46 sec. Users per second: 1182\n",
      "SearchBayesianSkopt: New best config found. Config 0: {'topK': 752, 'alpha': 0.7270844505807418, 'normalize_similarity': False} - results: PRECISION: 0.0528753, PRECISION_RECALL_MIN_DEN: 0.1093307, RECALL: 0.0988938, MAP: 0.0220347, MAP_MIN_DEN: 0.0459663, MRR: 0.1551842, NDCG: 0.0883725, F1: 0.0689078, HIT_RATE: 0.3746375, ARHR_ALL_HITS: 0.1845444, NOVELTY: 0.0044749, AVERAGE_POPULARITY: 0.4459966, DIVERSITY_MEAN_INTER_LIST: 0.8176846, DIVERSITY_HERFINDAHL: 0.9817603, COVERAGE_ITEM: 0.2206014, COVERAGE_ITEM_HIT: 0.0347235, ITEMS_IN_GT: 0.7394845, COVERAGE_USER: 0.7676775, COVERAGE_USER_HIT: 0.2876008, USERS_IN_GT: 0.7676775, DIVERSITY_GINI: 0.0220165, SHANNON_ENTROPY: 7.8521386, RATIO_DIVERSITY_HERFINDAHL: 0.9821154, RATIO_DIVERSITY_GINI: 0.0642878, RATIO_SHANNON_ENTROPY: 0.6053677, RATIO_AVERAGE_POPULARITY: 3.8261020, RATIO_NOVELTY: 0.3277636, \n",
      "\n",
      "EvaluatorHoldout: Processed 10531 (100.0%) in 9.20 sec. Users per second: 1144\n",
      "SearchBayesianSkopt: Config evaluated with evaluator_test. Config: {'topK': 752, 'alpha': 0.7270844505807418, 'normalize_similarity': False} - results:\n",
      "CUTOFF: 10 - PRECISION: 0.0621309, PRECISION_RECALL_MIN_DEN: 0.1152090, RECALL: 0.0999668, MAP: 0.0265960, MAP_MIN_DEN: 0.0494473, MRR: 0.1790308, NDCG: 0.0972382, F1: 0.0766331, HIT_RATE: 0.4160099, ARHR_ALL_HITS: 0.2171306, NOVELTY: 0.0045040, AVERAGE_POPULARITY: 0.4395989, DIVERSITY_MEAN_INTER_LIST: 0.8233600, DIVERSITY_HERFINDAHL: 0.9823282, COVERAGE_ITEM: 0.2350098, COVERAGE_ITEM_HIT: 0.0402721, ITEMS_IN_GT: 0.7946572, COVERAGE_USER: 0.8085221, COVERAGE_USER_HIT: 0.3363532, USERS_IN_GT: 0.8085221, DIVERSITY_GINI: 0.0235770, SHANNON_ENTROPY: 7.9246723, RATIO_DIVERSITY_HERFINDAHL: 0.9826835, RATIO_DIVERSITY_GINI: 0.0688443, RATIO_SHANNON_ENTROPY: 0.6109597, RATIO_AVERAGE_POPULARITY: 3.7712170, RATIO_NOVELTY: 0.3298972, \n",
      "\n",
      "\n",
      "SearchBayesianSkopt: Saving model in result_experiments/P3alphaRecommender\n",
      "\n",
      "P3alphaRecommender: Saving model in file 'result_experiments/P3alphaRecommender_best_model'\n",
      "P3alphaRecommender: Saving complete\n",
      "Iteration No: 1 ended. Evaluation done at random point.\n",
      "Time taken: 51.6416\n",
      "Function value obtained: -0.0220\n",
      "Current minimum: -0.0220\n",
      "Iteration No: 2 started. Evaluating function at random point.\n",
      "SearchBayesianSkopt: Testing config: {'topK': 656, 'alpha': 0.7657354401977383, 'normalize_similarity': True}\n",
      "P3alphaRecommender: URM Detected 874 ( 6.7%) users with no interactions.\n",
      "P3alphaRecommender: URM Detected 446 ( 2.0%) items with no interactions.\n",
      "P3alphaRecommender: Similarity column 22348 (100.0%), 1323.51 column/sec. Elapsed time 16.89 sec\n",
      "EvaluatorHoldout: Processed 9999 (100.0%) in 8.45 sec. Users per second: 1184\n",
      "SearchBayesianSkopt: New best config found. Config 1: {'topK': 656, 'alpha': 0.7657354401977383, 'normalize_similarity': True} - results: PRECISION: 0.0575458, PRECISION_RECALL_MIN_DEN: 0.1134582, RECALL: 0.1014415, MAP: 0.0255330, MAP_MIN_DEN: 0.0506803, MRR: 0.1715351, NDCG: 0.0956640, F1: 0.0734339, HIT_RATE: 0.3862386, ARHR_ALL_HITS: 0.2085670, NOVELTY: 0.0049061, AVERAGE_POPULARITY: 0.2735492, DIVERSITY_MEAN_INTER_LIST: 0.9520653, DIVERSITY_HERFINDAHL: 0.9951970, COVERAGE_ITEM: 0.3180598, COVERAGE_ITEM_HIT: 0.0488187, ITEMS_IN_GT: 0.7394845, COVERAGE_USER: 0.7676775, COVERAGE_USER_HIT: 0.2965067, USERS_IN_GT: 0.7676775, DIVERSITY_GINI: 0.0513263, SHANNON_ENTROPY: 9.6847467, RATIO_DIVERSITY_HERFINDAHL: 0.9955570, RATIO_DIVERSITY_GINI: 0.1498716, RATIO_SHANNON_ENTROPY: 0.7466543, RATIO_AVERAGE_POPULARITY: 2.3467155, RATIO_NOVELTY: 0.3593451, \n",
      "\n",
      "EvaluatorHoldout: Processed 10531 (100.0%) in 9.04 sec. Users per second: 1165\n",
      "SearchBayesianSkopt: Config evaluated with evaluator_test. Config: {'topK': 656, 'alpha': 0.7657354401977383, 'normalize_similarity': True} - results:\n",
      "CUTOFF: 10 - PRECISION: 0.0675719, PRECISION_RECALL_MIN_DEN: 0.1208829, RECALL: 0.1031149, MAP: 0.0304109, MAP_MIN_DEN: 0.0535872, MRR: 0.1922134, NDCG: 0.1043061, F1: 0.0816428, HIT_RATE: 0.4256956, ARHR_ALL_HITS: 0.2402069, NOVELTY: 0.0049290, AVERAGE_POPULARITY: 0.2701739, DIVERSITY_MEAN_INTER_LIST: 0.9531541, DIVERSITY_HERFINDAHL: 0.9953064, COVERAGE_ITEM: 0.3305889, COVERAGE_ITEM_HIT: 0.0555754, ITEMS_IN_GT: 0.7946572, COVERAGE_USER: 0.8085221, COVERAGE_USER_HIT: 0.3441843, USERS_IN_GT: 0.8085221, DIVERSITY_GINI: 0.0531487, SHANNON_ENTROPY: 9.7228642, RATIO_DIVERSITY_HERFINDAHL: 0.9956664, RATIO_DIVERSITY_GINI: 0.1551931, RATIO_SHANNON_ENTROPY: 0.7495930, RATIO_AVERAGE_POPULARITY: 2.3177597, RATIO_NOVELTY: 0.3610268, \n",
      "\n",
      "\n",
      "SearchBayesianSkopt: Saving model in result_experiments/P3alphaRecommender\n",
      "\n",
      "P3alphaRecommender: Saving model in file 'result_experiments/P3alphaRecommender_best_model'\n",
      "P3alphaRecommender: Saving complete\n",
      "Iteration No: 2 ended. Evaluation done at random point.\n",
      "Time taken: 49.6752\n",
      "Function value obtained: -0.0255\n",
      "Current minimum: -0.0255\n",
      "Iteration No: 3 started. Evaluating function at random point.\n",
      "SearchBayesianSkopt: Testing config: {'topK': 695, 'alpha': 1.4657911331622082, 'normalize_similarity': True}\n",
      "P3alphaRecommender: URM Detected 874 ( 6.7%) users with no interactions.\n",
      "P3alphaRecommender: URM Detected 446 ( 2.0%) items with no interactions.\n",
      "P3alphaRecommender: Similarity column 22348 (100.0%), 960.00 column/sec. Elapsed time 23.28 sec\n",
      "EvaluatorHoldout: Processed 9999 (100.0%) in 8.86 sec. Users per second: 1129\n",
      "SearchBayesianSkopt: Config 2 is suboptimal. Config: {'topK': 695, 'alpha': 1.4657911331622082, 'normalize_similarity': True} - results: PRECISION: 0.0400140, PRECISION_RECALL_MIN_DEN: 0.0827399, RECALL: 0.0749309, MAP: 0.0162125, MAP_MIN_DEN: 0.0343300, MRR: 0.1170625, NDCG: 0.0665176, F1: 0.0521691, HIT_RATE: 0.2937294, ARHR_ALL_HITS: 0.1373038, NOVELTY: 0.0052137, AVERAGE_POPULARITY: 0.2102839, DIVERSITY_MEAN_INTER_LIST: 0.9761468, DIVERSITY_HERFINDAHL: 0.9976049, COVERAGE_ITEM: 0.3255772, COVERAGE_ITEM_HIT: 0.0388402, ITEMS_IN_GT: 0.7394845, COVERAGE_USER: 0.7676775, COVERAGE_USER_HIT: 0.2254894, USERS_IN_GT: 0.7676775, DIVERSITY_GINI: 0.0771548, SHANNON_ENTROPY: 10.5597136, RATIO_DIVERSITY_HERFINDAHL: 0.9979658, RATIO_DIVERSITY_GINI: 0.2252902, RATIO_SHANNON_ENTROPY: 0.8141106, RATIO_AVERAGE_POPULARITY: 1.8039770, RATIO_NOVELTY: 0.3818777, \n",
      "\n",
      "Iteration No: 3 ended. Evaluation done at random point.\n",
      "Time taken: 43.2680\n",
      "Function value obtained: -0.0162\n",
      "Current minimum: -0.0255\n",
      "Iteration No: 4 started. Searching for the next optimal point.\n",
      "SearchBayesianSkopt: Testing config: {'topK': 466, 'alpha': 0.8344841183095578, 'normalize_similarity': True}\n",
      "P3alphaRecommender: URM Detected 874 ( 6.7%) users with no interactions.\n",
      "P3alphaRecommender: URM Detected 446 ( 2.0%) items with no interactions.\n",
      "P3alphaRecommender: Similarity column 22348 (100.0%), 1520.26 column/sec. Elapsed time 14.70 sec\n",
      "EvaluatorHoldout: Processed 9999 (100.0%) in 7.39 sec. Users per second: 1353\n",
      "SearchBayesianSkopt: New best config found. Config 3: {'topK': 466, 'alpha': 0.8344841183095578, 'normalize_similarity': True} - results: PRECISION: 0.0579058, PRECISION_RECALL_MIN_DEN: 0.1136688, RECALL: 0.1014390, MAP: 0.0260279, MAP_MIN_DEN: 0.0515149, MRR: 0.1737010, NDCG: 0.0966501, F1: 0.0737257, HIT_RATE: 0.3855386, ARHR_ALL_HITS: 0.2118127, NOVELTY: 0.0049907, AVERAGE_POPULARITY: 0.2455262, DIVERSITY_MEAN_INTER_LIST: 0.9642790, DIVERSITY_HERFINDAHL: 0.9964183, COVERAGE_ITEM: 0.3298282, COVERAGE_ITEM_HIT: 0.0512350, ITEMS_IN_GT: 0.7394845, COVERAGE_USER: 0.7676775, COVERAGE_USER_HIT: 0.2959693, USERS_IN_GT: 0.7676775, DIVERSITY_GINI: 0.0581483, SHANNON_ENTROPY: 9.9663562, RATIO_DIVERSITY_HERFINDAHL: 0.9967787, RATIO_DIVERSITY_GINI: 0.1697918, RATIO_SHANNON_ENTROPY: 0.7683652, RATIO_AVERAGE_POPULARITY: 2.1063123, RATIO_NOVELTY: 0.3655446, \n",
      "\n",
      "EvaluatorHoldout: Processed 10531 (100.0%) in 8.15 sec. Users per second: 1293\n",
      "SearchBayesianSkopt: Config evaluated with evaluator_test. Config: {'topK': 466, 'alpha': 0.8344841183095578, 'normalize_similarity': True} - results:\n",
      "CUTOFF: 10 - PRECISION: 0.0681132, PRECISION_RECALL_MIN_DEN: 0.1204698, RECALL: 0.1024330, MAP: 0.0314002, MAP_MIN_DEN: 0.0550307, MRR: 0.1989526, NDCG: 0.1060605, F1: 0.0818199, HIT_RATE: 0.4262653, ARHR_ALL_HITS: 0.2480680, NOVELTY: 0.0050142, AVERAGE_POPULARITY: 0.2422464, DIVERSITY_MEAN_INTER_LIST: 0.9650612, DIVERSITY_HERFINDAHL: 0.9964970, COVERAGE_ITEM: 0.3430732, COVERAGE_ITEM_HIT: 0.0584840, ITEMS_IN_GT: 0.7946572, COVERAGE_USER: 0.8085221, COVERAGE_USER_HIT: 0.3446449, USERS_IN_GT: 0.8085221, DIVERSITY_GINI: 0.0600783, SHANNON_ENTROPY: 10.0029485, RATIO_DIVERSITY_HERFINDAHL: 0.9968574, RATIO_DIVERSITY_GINI: 0.1754274, RATIO_SHANNON_ENTROPY: 0.7711863, RATIO_AVERAGE_POPULARITY: 2.0781760, RATIO_NOVELTY: 0.3672617, \n",
      "\n",
      "\n",
      "SearchBayesianSkopt: Saving model in result_experiments/P3alphaRecommender\n",
      "\n",
      "P3alphaRecommender: Saving model in file 'result_experiments/P3alphaRecommender_best_model'\n",
      "P3alphaRecommender: Saving complete\n",
      "Iteration No: 4 ended. Search finished for the next optimal point.\n",
      "Time taken: 41.9766\n",
      "Function value obtained: -0.0260\n",
      "Current minimum: -0.0260\n",
      "Iteration No: 5 started. Searching for the next optimal point.\n",
      "SearchBayesianSkopt: Testing config: {'topK': 10, 'alpha': 0.0, 'normalize_similarity': True}\n",
      "P3alphaRecommender: URM Detected 874 ( 6.7%) users with no interactions.\n",
      "P3alphaRecommender: URM Detected 446 ( 2.0%) items with no interactions.\n",
      "P3alphaRecommender: Similarity column 22348 (100.0%), 4285.76 column/sec. Elapsed time 5.21 sec\n",
      "EvaluatorHoldout: Processed 9999 (100.0%) in 6.74 sec. Users per second: 1484\n",
      "SearchBayesianSkopt: Config 4 is suboptimal. Config: {'topK': 10, 'alpha': 0.0, 'normalize_similarity': True} - results: PRECISION: 0.0454945, PRECISION_RECALL_MIN_DEN: 0.0759435, RECALL: 0.0639682, MAP: 0.0223764, MAP_MIN_DEN: 0.0405752, MRR: 0.1560310, NDCG: 0.0754856, F1: 0.0531725, HIT_RATE: 0.3070307, ARHR_ALL_HITS: 0.1857202, NOVELTY: 0.0061046, AVERAGE_POPULARITY: 0.0656640, DIVERSITY_MEAN_INTER_LIST: 0.9402484, DIVERSITY_HERFINDAHL: 0.9940154, COVERAGE_ITEM: 0.4467514, COVERAGE_ITEM_HIT: 0.0746376, ITEMS_IN_GT: 0.7394845, COVERAGE_USER: 0.7676775, COVERAGE_USER_HIT: 0.2357006, USERS_IN_GT: 0.7676775, DIVERSITY_GINI: 0.1150652, SHANNON_ENTROPY: 10.6699991, RATIO_DIVERSITY_HERFINDAHL: 0.9943750, RATIO_DIVERSITY_GINI: 0.3359877, RATIO_SHANNON_ENTROPY: 0.8226132, RATIO_AVERAGE_POPULARITY: 0.5633166, RATIO_NOVELTY: 0.4471338, \n",
      "\n",
      "Iteration No: 5 ended. Search finished for the next optimal point.\n",
      "Time taken: 13.0922\n",
      "Function value obtained: -0.0224\n",
      "Current minimum: -0.0260\n",
      "Iteration No: 6 started. Searching for the next optimal point.\n",
      "SearchBayesianSkopt: Testing config: {'topK': 460, 'alpha': 0.8646829162266492, 'normalize_similarity': True}\n",
      "P3alphaRecommender: URM Detected 874 ( 6.7%) users with no interactions.\n",
      "P3alphaRecommender: URM Detected 446 ( 2.0%) items with no interactions.\n",
      "P3alphaRecommender: Similarity column 22348 (100.0%), 1629.70 column/sec. Elapsed time 13.71 sec\n",
      "EvaluatorHoldout: Processed 9999 (100.0%) in 7.39 sec. Users per second: 1353\n",
      "SearchBayesianSkopt: Config 5 is suboptimal. Config: {'topK': 460, 'alpha': 0.8646829162266492, 'normalize_similarity': True} - results: PRECISION: 0.0572457, PRECISION_RECALL_MIN_DEN: 0.1126087, RECALL: 0.1005895, MAP: 0.0257621, MAP_MIN_DEN: 0.0510252, MRR: 0.1726679, NDCG: 0.0957918, F1: 0.0729662, HIT_RATE: 0.3827383, ARHR_ALL_HITS: 0.2100939, NOVELTY: 0.0050026, AVERAGE_POPULARITY: 0.2433517, DIVERSITY_MEAN_INTER_LIST: 0.9651855, DIVERSITY_HERFINDAHL: 0.9965089, COVERAGE_ITEM: 0.3325577, COVERAGE_ITEM_HIT: 0.0504743, ITEMS_IN_GT: 0.7394845, COVERAGE_USER: 0.7676775, COVERAGE_USER_HIT: 0.2938196, USERS_IN_GT: 0.7676775, DIVERSITY_GINI: 0.0596709, SHANNON_ENTROPY: 10.0060253, RATIO_DIVERSITY_HERFINDAHL: 0.9968694, RATIO_DIVERSITY_GINI: 0.1742377, RATIO_SHANNON_ENTROPY: 0.7714235, RATIO_AVERAGE_POPULARITY: 2.0876580, RATIO_NOVELTY: 0.3664158, \n",
      "\n",
      "Iteration No: 6 ended. Search finished for the next optimal point.\n",
      "Time taken: 29.1235\n",
      "Function value obtained: -0.0258\n",
      "Current minimum: -0.0260\n",
      "Iteration No: 7 started. Searching for the next optimal point.\n",
      "SearchBayesianSkopt: Testing config: {'topK': 5, 'alpha': 0.5828310351620534, 'normalize_similarity': True}\n",
      "P3alphaRecommender: URM Detected 874 ( 6.7%) users with no interactions.\n",
      "P3alphaRecommender: URM Detected 446 ( 2.0%) items with no interactions.\n",
      "P3alphaRecommender: Similarity column 22348 (100.0%), 4950.45 column/sec. Elapsed time 4.51 sec\n",
      "EvaluatorHoldout: Processed 9999 (100.0%) in 5.98 sec. Users per second: 1673\n",
      "SearchBayesianSkopt: Config 6 is suboptimal. Config: {'topK': 5, 'alpha': 0.5828310351620534, 'normalize_similarity': True} - results: PRECISION: 0.0358436, PRECISION_RECALL_MIN_DEN: 0.0572382, RECALL: 0.0474230, MAP: 0.0177696, MAP_MIN_DEN: 0.0319801, MRR: 0.1308659, NDCG: 0.0598480, F1: 0.0408281, HIT_RATE: 0.2576258, ARHR_ALL_HITS: 0.1517864, NOVELTY: 0.0063719, AVERAGE_POPULARITY: 0.0537617, DIVERSITY_MEAN_INTER_LIST: 0.8552489, DIVERSITY_HERFINDAHL: 0.9855163, COVERAGE_ITEM: 0.3568552, COVERAGE_ITEM_HIT: 0.0618847, ITEMS_IN_GT: 0.7394845, COVERAGE_USER: 0.7676775, COVERAGE_USER_HIT: 0.1977735, USERS_IN_GT: 0.7676775, DIVERSITY_GINI: 0.0796353, SHANNON_ENTROPY: 9.4777774, RATIO_DIVERSITY_HERFINDAHL: 0.9858729, RATIO_DIVERSITY_GINI: 0.2325334, RATIO_SHANNON_ENTROPY: 0.7306978, RATIO_AVERAGE_POPULARITY: 0.4612090, RATIO_NOVELTY: 0.4667101, \n",
      "\n",
      "Iteration No: 7 ended. Search finished for the next optimal point.\n",
      "Time taken: 11.5685\n",
      "Function value obtained: -0.0178\n",
      "Current minimum: -0.0260\n",
      "Iteration No: 8 started. Searching for the next optimal point.\n",
      "SearchBayesianSkopt: Testing config: {'topK': 602, 'alpha': 0.12694735071110255, 'normalize_similarity': True}\n",
      "P3alphaRecommender: URM Detected 874 ( 6.7%) users with no interactions.\n",
      "P3alphaRecommender: URM Detected 446 ( 2.0%) items with no interactions.\n",
      "P3alphaRecommender: Similarity column 22348 (100.0%), 1340.07 column/sec. Elapsed time 16.68 sec\n",
      "EvaluatorHoldout: Processed 9999 (100.0%) in 7.36 sec. Users per second: 1359\n",
      "SearchBayesianSkopt: Config 7 is suboptimal. Config: {'topK': 602, 'alpha': 0.12694735071110255, 'normalize_similarity': True} - results: PRECISION: 0.0594359, PRECISION_RECALL_MIN_DEN: 0.1184931, RECALL: 0.1060830, MAP: 0.0258650, MAP_MIN_DEN: 0.0515598, MRR: 0.1728463, NDCG: 0.0980915, F1: 0.0761864, HIT_RATE: 0.3998400, ARHR_ALL_HITS: 0.2105776, NOVELTY: 0.0047726, AVERAGE_POPULARITY: 0.3066198, DIVERSITY_MEAN_INTER_LIST: 0.9334857, DIVERSITY_HERFINDAHL: 0.9933392, COVERAGE_ITEM: 0.2496420, COVERAGE_ITEM_HIT: 0.0516825, ITEMS_IN_GT: 0.7394845, COVERAGE_USER: 0.7676775, COVERAGE_USER_HIT: 0.3069482, USERS_IN_GT: 0.7676775, DIVERSITY_GINI: 0.0342015, SHANNON_ENTROPY: 9.1688830, RATIO_DIVERSITY_HERFINDAHL: 0.9936986, RATIO_DIVERSITY_GINI: 0.0998677, RATIO_SHANNON_ENTROPY: 0.7068833, RATIO_AVERAGE_POPULARITY: 2.6304207, RATIO_NOVELTY: 0.3495666, \n",
      "\n",
      "Iteration No: 8 ended. Search finished for the next optimal point.\n",
      "Time taken: 33.2894\n",
      "Function value obtained: -0.0259\n",
      "Current minimum: -0.0260\n",
      "Iteration No: 9 started. Searching for the next optimal point.\n",
      "SearchBayesianSkopt: Testing config: {'topK': 1000, 'alpha': 0.0, 'normalize_similarity': True}\n",
      "P3alphaRecommender: URM Detected 874 ( 6.7%) users with no interactions.\n",
      "P3alphaRecommender: URM Detected 446 ( 2.0%) items with no interactions.\n",
      "P3alphaRecommender: Similarity column 22348 (100.0%), 1163.42 column/sec. Elapsed time 19.21 sec\n",
      "EvaluatorHoldout: Processed 9999 (100.0%) in 11.32 sec. Users per second: 883\n",
      "SearchBayesianSkopt: Config 8 is suboptimal. Config: {'topK': 1000, 'alpha': 0.0, 'normalize_similarity': True} - results: PRECISION: 0.0562056, PRECISION_RECALL_MIN_DEN: 0.1116068, RECALL: 0.0996936, MAP: 0.0241755, MAP_MIN_DEN: 0.0483398, MRR: 0.1639844, NDCG: 0.0924066, F1: 0.0718841, HIT_RATE: 0.3831383, ARHR_ALL_HITS: 0.1983958, NOVELTY: 0.0047145, AVERAGE_POPULARITY: 0.3284743, DIVERSITY_MEAN_INTER_LIST: 0.9204885, DIVERSITY_HERFINDAHL: 0.9920396, COVERAGE_ITEM: 0.2333990, COVERAGE_ITEM_HIT: 0.0465366, ITEMS_IN_GT: 0.7394845, COVERAGE_USER: 0.7676775, COVERAGE_USER_HIT: 0.2941267, USERS_IN_GT: 0.7676775, DIVERSITY_GINI: 0.0308913, SHANNON_ENTROPY: 8.9689631, RATIO_DIVERSITY_HERFINDAHL: 0.9923985, RATIO_DIVERSITY_GINI: 0.0902019, RATIO_SHANNON_ENTROPY: 0.6914703, RATIO_AVERAGE_POPULARITY: 2.8179051, RATIO_NOVELTY: 0.3453141, \n",
      "\n",
      "Iteration No: 9 ended. Search finished for the next optimal point.\n",
      "Time taken: 44.0492\n",
      "Function value obtained: -0.0242\n",
      "Current minimum: -0.0260\n",
      "Iteration No: 10 started. Searching for the next optimal point.\n",
      "SearchBayesianSkopt: Testing config: {'topK': 5, 'alpha': 2.0, 'normalize_similarity': False}\n",
      "P3alphaRecommender: URM Detected 874 ( 6.7%) users with no interactions.\n",
      "P3alphaRecommender: URM Detected 446 ( 2.0%) items with no interactions.\n",
      "P3alphaRecommender: Similarity column 22348 (100.0%), 3582.50 column/sec. Elapsed time 6.24 sec\n",
      "EvaluatorHoldout: Processed 9999 (100.0%) in 6.92 sec. Users per second: 1445\n",
      "SearchBayesianSkopt: Config 9 is suboptimal. Config: {'topK': 5, 'alpha': 2.0, 'normalize_similarity': False} - results: PRECISION: 0.0047305, PRECISION_RECALL_MIN_DEN: 0.0079067, RECALL: 0.0067918, MAP: 0.0016790, MAP_MIN_DEN: 0.0033499, MRR: 0.0157587, NDCG: 0.0071694, F1: 0.0055767, HIT_RATE: 0.0446045, ARHR_ALL_HITS: 0.0162612, NOVELTY: 0.0067179, AVERAGE_POPULARITY: 0.0188103, DIVERSITY_MEAN_INTER_LIST: 0.9287616, DIVERSITY_HERFINDAHL: 0.9928669, COVERAGE_ITEM: 0.4318955, COVERAGE_ITEM_HIT: 0.0185251, ITEMS_IN_GT: 0.7394845, COVERAGE_USER: 0.7676775, COVERAGE_USER_HIT: 0.0342418, USERS_IN_GT: 0.7676775, DIVERSITY_GINI: 0.1609854, SHANNON_ENTROPY: 11.0108823, RATIO_DIVERSITY_HERFINDAHL: 0.9932260, RATIO_DIVERSITY_GINI: 0.4700738, RATIO_SHANNON_ENTROPY: 0.8488939, RATIO_AVERAGE_POPULARITY: 0.1613696, RATIO_NOVELTY: 0.4920524, \n",
      "\n",
      "Iteration No: 10 ended. Search finished for the next optimal point.\n",
      "Time taken: 14.5614\n",
      "Function value obtained: -0.0017\n",
      "Current minimum: -0.0260\n",
      "SearchBayesianSkopt: Search complete. Best config is 3: {'topK': 466, 'alpha': 0.8344841183095578, 'normalize_similarity': True}\n",
      "\n",
      "P3alphaRecommender: URM Detected 625 ( 4.8%) users with no interactions.\n",
      "P3alphaRecommender: URM Detected 228 ( 1.0%) items with no interactions.\n",
      "SearchBayesianSkopt: Evaluation with constructor data for final test. Using best config: {'topK': 466, 'alpha': 0.8344841183095578, 'normalize_similarity': True}\n",
      "P3alphaRecommender: Similarity column 22348 (100.0%), 1276.05 column/sec. Elapsed time 17.51 sec\n",
      "EvaluatorHoldout: Processed 10531 (100.0%) in 8.38 sec. Users per second: 1257\n",
      "SearchBayesianSkopt: Best config evaluated with evaluator_test with constructor data for final test. Config: {'topK': 466, 'alpha': 0.8344841183095578, 'normalize_similarity': True} - results:\n",
      "CUTOFF: 10 - PRECISION: 0.0825658, PRECISION_RECALL_MIN_DEN: 0.1452221, RECALL: 0.1232437, MAP: 0.0400755, MAP_MIN_DEN: 0.0695224, MRR: 0.2348200, NDCG: 0.1292537, F1: 0.0988847, HIT_RATE: 0.4804862, ARHR_ALL_HITS: 0.3034410, NOVELTY: 0.0048377, AVERAGE_POPULARITY: 0.2990472, DIVERSITY_MEAN_INTER_LIST: 0.9412881, DIVERSITY_HERFINDAHL: 0.9941199, COVERAGE_ITEM: 0.2921514, COVERAGE_ITEM_HIT: 0.0648380, ITEMS_IN_GT: 0.7946572, COVERAGE_USER: 0.8085221, COVERAGE_USER_HIT: 0.3884837, USERS_IN_GT: 0.8085221, DIVERSITY_GINI: 0.0433982, SHANNON_ENTROPY: 9.4260683, RATIO_DIVERSITY_HERFINDAHL: 0.9944787, RATIO_DIVERSITY_GINI: 0.1252251, RATIO_SHANNON_ENTROPY: 0.7261367, RATIO_AVERAGE_POPULARITY: 2.4874342, RATIO_NOVELTY: 0.2832430, \n",
      "\n",
      "\n",
      "SearchBayesianSkopt: Saving model in result_experiments/P3alphaRecommender\n",
      "\n",
      "P3alphaRecommender: Saving model in file 'result_experiments/P3alphaRecommender_best_model_last'\n",
      "P3alphaRecommender: Saving complete\n"
     ]
    }
   ],
   "source": [
    "runHyperparameterSearch_Collaborative(recommender_class,\n",
    "       URM_train = URM_train,\n",
    "       URM_train_last_test = URM_train_full,\n",
    "       metric_to_optimize = metric_to_optimize,\n",
    "       cutoff_to_optimize = cutoff_to_optimize,\n",
    "       evaluator_validation_earlystopping = evaluator_validation,\n",
    "       evaluator_validation = evaluator_validation,\n",
    "       evaluator_test = evaluator_test,\n",
    "       output_folder_path = output_folder_path,\n",
    "       parallelizeKNN = True,\n",
    "       allow_weighting = True,\n",
    "       resume_from_saved = True,\n",
    "       save_model = \"best\",\n",
    "       similarity_type_list = ['cosine', 'jaccard', \"asymmetric\", \"dice\", \"tversky\"],\n",
    "       n_cases = n_cases,\n",
    "       n_random_starts = n_random_starts)"
   ]
  },
  {
   "cell_type": "code",
   "execution_count": 10,
   "metadata": {},
   "outputs": [
    {
     "name": "stdout",
     "output_type": "stream",
     "text": [
      "P3alphaRecommender: URM Detected 625 ( 4.8%) users with no interactions.\n",
      "P3alphaRecommender: URM Detected 228 ( 1.0%) items with no interactions.\n",
      "P3alphaRecommender: Loading model from file 'result_experiments/P3alphaRecommender_best_model_last.zip'\n",
      "P3alphaRecommender: Loading complete\n"
     ]
    }
   ],
   "source": [
    "# load the model with all best parameters\n",
    "recommender_object = P3alphaRecommender(URM_train_full)\n",
    "recommender_object.load_model(output_folder_path, file_name = recommender_object.RECOMMENDER_NAME + \"_best_model_last.zip\")"
   ]
  },
  {
   "cell_type": "code",
   "execution_count": 21,
   "metadata": {},
   "outputs": [],
   "source": [
    "# recommend items to users\n",
    "recommendations = recommender_object.recommend(users_to_eval, cutoff=10)"
   ]
  },
  {
   "cell_type": "code",
   "execution_count": 22,
   "metadata": {},
   "outputs": [
    {
     "name": "stdout",
     "output_type": "stream",
     "text": [
      "MAP = 0.0788\n"
     ]
    }
   ],
   "source": [
    "# evaluate recommender\n",
    "evaluate_algorithm(URM_test, recommender_object)"
   ]
  },
  {
   "cell_type": "code",
   "execution_count": 23,
   "metadata": {},
   "outputs": [],
   "source": [
    "newStoreRecommendations(users_to_eval, recommendations)"
   ]
  },
  {
   "cell_type": "code",
   "execution_count": null,
   "metadata": {},
   "outputs": [],
   "source": [
    "# save the model with all best parameters overwriting the old one\n",
    "# recommender_object.save_model(saved_folder_path, file_name = recommender_object.RECOMMENDER_NAME + \"_my_own_save.zip\")"
   ]
  }
 ],
 "metadata": {
  "kernelspec": {
   "display_name": "base",
   "language": "python",
   "name": "python3"
  },
  "language_info": {
   "codemirror_mode": {
    "name": "ipython",
    "version": 3
   },
   "file_extension": ".py",
   "mimetype": "text/x-python",
   "name": "python",
   "nbconvert_exporter": "python",
   "pygments_lexer": "ipython3",
   "version": "3.9.7"
  }
 },
 "nbformat": 4,
 "nbformat_minor": 2
}
