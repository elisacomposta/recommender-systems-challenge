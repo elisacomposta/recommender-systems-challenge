{
 "cells": [
  {
   "cell_type": "code",
   "execution_count": 4,
   "metadata": {},
   "outputs": [],
   "source": [
    "from Utils.my_utils import *\n",
    "from Recommenders.SLIM.SLIMElasticNetRecommender import *\n",
    "import numpy as np\n",
    "from Evaluation.Evaluator import EvaluatorHoldout\n",
    "from HyperparameterTuning.run_hyperparameter_search import runHyperparameterSearch_Collaborative\n",
    "import os\n",
    "from random import randint, seed"
   ]
  },
  {
   "cell_type": "code",
   "execution_count": 5,
   "metadata": {},
   "outputs": [
    {
     "name": "stdout",
     "output_type": "stream",
     "text": [
      "Warning: 611 (4.69 %) of 13025 users have no train items\n",
      "Warning: 2569 (19.72 %) of 13025 users have no sampled items\n",
      "Warning: 834 (6.40 %) of 13025 users have no train items\n",
      "Warning: 3056 (23.46 %) of 13025 users have no sampled items\n"
     ]
    }
   ],
   "source": [
    "users, items, users_to_eval = readData()\n",
    "URM = newPreProcess()\n",
    "URM_train_full, URM_train, URM_test, URM_validation = splitURM(URM)"
   ]
  },
  {
   "cell_type": "code",
   "execution_count": 6,
   "metadata": {},
   "outputs": [
    {
     "name": "stdout",
     "output_type": "stream",
     "text": [
      "EvaluatorHoldout: Ignoring 3056 (23.5%) Users that have less than 1 test interactions\n",
      "EvaluatorHoldout: Ignoring 2569 (19.7%) Users that have less than 1 test interactions\n"
     ]
    }
   ],
   "source": [
    "evaluator_validation = EvaluatorHoldout(URM_validation, cutoff_list=[10])\n",
    "evaluator_test = EvaluatorHoldout(URM_test, cutoff_list=[10])"
   ]
  },
  {
   "cell_type": "code",
   "execution_count": 8,
   "metadata": {},
   "outputs": [],
   "source": [
    "output_folder_path = \"result_experiments/\"\n",
    "if not os.path.exists(output_folder_path):\n",
    "    os.makedirs(output_folder_path)\n",
    "\n",
    "saved_folder_path = \"result_best_models/\"\n",
    "if not os.path.exists(saved_folder_path):\n",
    "    os.makedirs(saved_folder_path)\n",
    "    \n",
    "recommender_class = MultiThreadSLIM_SLIMElasticNetRecommender\n",
    "n_cases = 20\n",
    "n_random_starts = int(n_cases*0.3)\n",
    "metric_to_optimize = \"MAP\"   \n",
    "cutoff_to_optimize = 10"
   ]
  },
  {
   "cell_type": "code",
   "execution_count": null,
   "metadata": {},
   "outputs": [],
   "source": [
    "runHyperparameterSearch_Collaborative(recommender_class,\n",
    "       URM_train = URM_train,\n",
    "       URM_train_last_test = URM_train_full,\n",
    "       metric_to_optimize = metric_to_optimize,\n",
    "       cutoff_to_optimize = cutoff_to_optimize,\n",
    "       evaluator_validation_earlystopping = evaluator_validation,\n",
    "       evaluator_validation = evaluator_validation,\n",
    "       evaluator_test = evaluator_test,\n",
    "       output_folder_path = output_folder_path,\n",
    "       parallelizeKNN = True,\n",
    "       allow_weighting = True,\n",
    "       resume_from_saved = True,\n",
    "       save_model = \"best\",\n",
    "       similarity_type_list = ['cosine', 'jaccard', \"asymmetric\", \"dice\", \"tversky\"],\n",
    "       n_cases = n_cases,\n",
    "       n_random_starts = n_random_starts)"
   ]
  },
  {
   "cell_type": "code",
   "execution_count": 10,
   "metadata": {},
   "outputs": [
    {
     "name": "stdout",
     "output_type": "stream",
     "text": [
      "SLIMElasticNetRecommender: URM Detected 611 ( 4.7%) users with no interactions.\n",
      "SLIMElasticNetRecommender: URM Detected 222 ( 1.0%) items with no interactions.\n",
      "SLIMElasticNetRecommender: Loading model from file 'result_experiments/SLIMElasticNetRecommender_best_model_last.zip'\n",
      "SLIMElasticNetRecommender: Loading complete\n"
     ]
    }
   ],
   "source": [
    "# load the model with all best parameters\n",
    "recommender_object = MultiThreadSLIM_SLIMElasticNetRecommender(URM_train_full)\n",
    "recommender_object.load_model(output_folder_path, file_name = recommender_object.RECOMMENDER_NAME + \"_best_model_last.zip\")"
   ]
  },
  {
   "cell_type": "code",
   "execution_count": 14,
   "metadata": {},
   "outputs": [
    {
     "name": "stdout",
     "output_type": "stream",
     "text": [
      "EvaluatorHoldout: Processed 10456 (100.0%) in 7.12 sec. Users per second: 1469\n",
      "0.043651996727025945\n"
     ]
    }
   ],
   "source": [
    "# evaluate recommender\n",
    "# evaluate_algorithm(URM_test, recommender_object, at=10)\n",
    "result_df, _ = evaluator_test.evaluateRecommender(recommender_object)\n",
    "print(result_df.loc[10][\"MAP\"])"
   ]
  },
  {
   "cell_type": "code",
   "execution_count": 9,
   "metadata": {},
   "outputs": [
    {
     "name": "stdout",
     "output_type": "stream",
     "text": [
      "Recommendations stored in output.csv\n"
     ]
    }
   ],
   "source": [
    "# recommend items to users\n",
    "recommendations = recommender_object.recommend(users_to_eval, cutoff=10)\n",
    "\n",
    "# store recommendations\n",
    "newStoreRecommendations(users_to_eval, recommendations)"
   ]
  },
  {
   "cell_type": "code",
   "execution_count": null,
   "metadata": {},
   "outputs": [],
   "source": [
    "# save the model with all best parameters overwriting the old one\n",
    "\"\"\"\n",
    "saved_folder_path = \"result_best_models/\" + str(seed) + \"/\"\n",
    "if not os.path.exists(saved_folder_path):\n",
    "    os.makedirs(saved_folder_path)\n",
    "recommender_object.save_model(saved_folder_path, file_name = recommender_object.RECOMMENDER_NAME + \"_my_own_save.zip\")\n",
    "\"\"\""
   ]
  }
 ],
 "metadata": {
  "kernelspec": {
   "display_name": "base",
   "language": "python",
   "name": "python3"
  },
  "language_info": {
   "codemirror_mode": {
    "name": "ipython",
    "version": 3
   },
   "file_extension": ".py",
   "mimetype": "text/x-python",
   "name": "python",
   "nbconvert_exporter": "python",
   "pygments_lexer": "ipython3",
   "version": "3.9.7"
  }
 },
 "nbformat": 4,
 "nbformat_minor": 2
}
