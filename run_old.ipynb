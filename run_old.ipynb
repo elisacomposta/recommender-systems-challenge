{
 "cells": [
  {
   "cell_type": "code",
   "execution_count": null,
   "metadata": {},
   "outputs": [],
   "source": [
    "from Utils.my_utils import *\n",
    "from Recommenders.GraphBased.RP3betaRecommender import *\n",
    "import numpy as np\n",
    "from Evaluation.Evaluator import EvaluatorHoldout\n",
    "from Recommenders.NonPersonalizedRecommender import *\n",
    "import os"
   ]
  },
  {
   "cell_type": "code",
   "execution_count": null,
   "metadata": {},
   "outputs": [],
   "source": [
    "# seed to be set\n",
    "seed = 480\n",
    "np.random.seed(seed)\n",
    "users, items, users_to_eval = readData()\n",
    "URM, user_originalID_to_index, item_originalID_to_index, item_index_to_originalID = preProcess()\n",
    "URM_train_full, URM_train, URM_test, URM_validation = splitURM(URM)"
   ]
  },
  {
   "cell_type": "code",
   "execution_count": null,
   "metadata": {},
   "outputs": [],
   "source": [
    "evaluator_validation = EvaluatorHoldout(URM_validation, cutoff_list=[10])\n",
    "evaluator_test = EvaluatorHoldout(URM_test, cutoff_list=[10])"
   ]
  },
  {
   "cell_type": "code",
   "execution_count": null,
   "metadata": {},
   "outputs": [],
   "source": [
    "output_folder_path = \"result_best_models/\"\n",
    "if not os.path.exists(output_folder_path):\n",
    "    os.makedirs(output_folder_path)"
   ]
  },
  {
   "cell_type": "code",
   "execution_count": null,
   "metadata": {},
   "outputs": [],
   "source": [
    "# load the model with all best parameters\n",
    "recommender_object = RP3betaRecommender(URM_train_full)\n",
    "recommender_object.load_model(output_folder_path, file_name = recommender_object.RECOMMENDER_NAME + \"_my_own_save.zip\")"
   ]
  },
  {
   "cell_type": "code",
   "execution_count": null,
   "metadata": {},
   "outputs": [],
   "source": [
    "# define and load recommender\n",
    "recommender_object_top_pop = TopPop(URM_train_full)\n",
    "recommender_object_top_pop.load_model(output_folder_path, file_name = recommender_object_top_pop.RECOMMENDER_NAME + \"_my_own_save.zip\")"
   ]
  },
  {
   "cell_type": "code",
   "execution_count": null,
   "metadata": {},
   "outputs": [],
   "source": [
    "# recommend items to users\n",
    "rec_items_ind = []\n",
    "for user_id in users_to_eval:\n",
    "    if(user_id in users):\n",
    "        # recommend users for which we already have some ratings\n",
    "        rec_items_ind.append(recommender_object.recommend(user_originalID_to_index[user_id], cutoff=10))\n",
    "    else:\n",
    "        # recommend users with no stored rating\n",
    "        rec_items_ind.append(recommender_object_top_pop.recommend(user_id, cutoff=10, remove_seen_flag=False))"
   ]
  },
  {
   "cell_type": "code",
   "execution_count": null,
   "metadata": {},
   "outputs": [],
   "source": [
    "# evaluate recommender\n",
    "evaluate_algorithm(URM_test, recommender_object)"
   ]
  },
  {
   "cell_type": "code",
   "execution_count": null,
   "metadata": {},
   "outputs": [],
   "source": [
    "storeRecommendations(users_to_eval, rec_items_ind, item_index_to_originalID)"
   ]
  }
 ],
 "metadata": {
  "kernelspec": {
   "display_name": "base",
   "language": "python",
   "name": "python3"
  },
  "language_info": {
   "codemirror_mode": {
    "name": "ipython",
    "version": 3
   },
   "file_extension": ".py",
   "mimetype": "text/x-python",
   "name": "python",
   "nbconvert_exporter": "python",
   "pygments_lexer": "ipython3",
   "version": "3.9.7"
  }
 },
 "nbformat": 4,
 "nbformat_minor": 2
}
