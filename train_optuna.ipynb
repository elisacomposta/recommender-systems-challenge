{
 "cells": [
  {
   "cell_type": "code",
   "execution_count": null,
   "metadata": {},
   "outputs": [],
   "source": [
    "from Utils.my_utils import *\n",
    "from Evaluation.Evaluator import EvaluatorHoldout\n",
    "import optuna\n",
    "from HyperparameterTuning.objective_functions_optuna import *"
   ]
  },
  {
   "cell_type": "code",
   "execution_count": null,
   "metadata": {},
   "outputs": [],
   "source": [
    "users, items, users_to_eval = readData()\n",
    "URM = preProcess()\n",
    "URM_train, URM_validation = split_train_in_two_percentage_global_sample(URM, train_percentage = 0.80)\n",
    "evaluator_validation = EvaluatorHoldout(URM_validation, cutoff_list=[10])"
   ]
  },
  {
   "cell_type": "code",
   "execution_count": null,
   "metadata": {},
   "outputs": [],
   "source": [
    "# Train for n_trials times the model\n",
    "optuna_study = optuna.create_study(direction=\"maximize\")\n",
    "        \n",
    "save_results = SaveResults()\n",
    "\n",
    "train_hybrid = TrainHyperparams(URM_train=URM_train, evaluator_validation=evaluator_validation)\n",
    "        \n",
    "optuna_study.optimize(train_hybrid.objective_function_hybrid,\n",
    "                      callbacks=[save_results],\n",
    "                      n_trials = 20)"
   ]
  },
  {
   "cell_type": "code",
   "execution_count": null,
   "metadata": {},
   "outputs": [],
   "source": [
    "# Map of the best recommender found\n",
    "idx = save_results.results_df['result'].idxmax()\n",
    "best_result = save_results.results_df.loc[idx][\"result\"]\n",
    "print(\"MAP: \" + str(best_result))"
   ]
  },
  {
   "cell_type": "code",
   "execution_count": null,
   "metadata": {},
   "outputs": [],
   "source": [
    "# Best parameters found\n",
    "optuna_study.best_trial.params"
   ]
  }
 ],
 "metadata": {
  "kernelspec": {
   "display_name": "base",
   "language": "python",
   "name": "python3"
  },
  "language_info": {
   "codemirror_mode": {
    "name": "ipython",
    "version": 3
   },
   "file_extension": ".py",
   "mimetype": "text/x-python",
   "name": "python",
   "nbconvert_exporter": "python",
   "pygments_lexer": "ipython3",
   "version": "3.9.7"
  }
 },
 "nbformat": 4,
 "nbformat_minor": 2
}
