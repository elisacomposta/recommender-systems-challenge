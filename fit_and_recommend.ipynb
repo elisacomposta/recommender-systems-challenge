{
 "cells": [
  {
   "cell_type": "code",
   "execution_count": null,
   "metadata": {},
   "outputs": [],
   "source": [
    "from Recommenders.Hybrids.Hybrid_SLIM_RP3beta import Hybrid_SLIM_RP3beta\n",
    "from Utils.my_utils import *"
   ]
  },
  {
   "cell_type": "code",
   "execution_count": null,
   "metadata": {},
   "outputs": [],
   "source": [
    "users, items, users_to_eval = readData()\n",
    "URM = preProcess()\n",
    "output_folder_path = \"result_experiments/\""
   ]
  },
  {
   "cell_type": "code",
   "execution_count": null,
   "metadata": {},
   "outputs": [],
   "source": [
    "# Fit/load the model with the best parameters found\n",
    "hybrid_recommender = Hybrid_SLIM_RP3beta(URM)\n",
    "hybrid_recommender.load_model(output_folder_path, file_name=\"hybrid_SLIM_RP3beta_best.zip\")\n",
    "\n",
    "#hybrid_recommender.fit(alpha=0.5860907274132556,beta=0.4229936237856761,topK=573)\n"
   ]
  },
  {
   "cell_type": "code",
   "execution_count": null,
   "metadata": {},
   "outputs": [],
   "source": [
    "# Recommend items to users\n",
    "recommendations = hybrid_recommender.recommend(users_to_eval, cutoff=10)\n",
    "\n",
    "# Store recommendations\n",
    "storeRecommendations(users_to_eval, recommendations)"
   ]
  }
 ],
 "metadata": {
  "kernelspec": {
   "display_name": "base",
   "language": "python",
   "name": "python3"
  },
  "language_info": {
   "codemirror_mode": {
    "name": "ipython",
    "version": 3
   },
   "file_extension": ".py",
   "mimetype": "text/x-python",
   "name": "python",
   "nbconvert_exporter": "python",
   "pygments_lexer": "ipython3",
   "version": "3.9.7"
  }
 },
 "nbformat": 4,
 "nbformat_minor": 2
}
