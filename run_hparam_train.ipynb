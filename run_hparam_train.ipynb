{
 "cells": [
  {
   "cell_type": "code",
   "execution_count": 7,
   "metadata": {},
   "outputs": [],
   "source": [
    "from Utils.my_utils import *\n",
    "from Recommenders.KNN.ItemKNNCFRecommender import *\n",
    "import numpy as np\n",
    "from Evaluation.Evaluator import EvaluatorHoldout\n",
    "from HyperparameterTuning.run_hyperparameter_search import runHyperparameterSearch_Collaborative\n",
    "from Recommenders.NonPersonalizedRecommender import *\n",
    "import os"
   ]
  },
  {
   "cell_type": "code",
   "execution_count": 8,
   "metadata": {},
   "outputs": [
    {
     "name": "stdout",
     "output_type": "stream",
     "text": [
      "Warning: 213 (1.69 %) of 12638 users have no train items\n",
      "Warning: 2227 (17.62 %) of 12638 users have no sampled items\n",
      "Warning: 455 (3.60 %) of 12638 users have no train items\n",
      "Warning: 2602 (20.59 %) of 12638 users have no sampled items\n"
     ]
    }
   ],
   "source": [
    "np.random.seed(1234)\n",
    "users, items, users_to_eval = readData()\n",
    "URM, user_originalID_to_index, item_originalID_to_index, item_index_to_originalID = preProcess()\n",
    "URM_train_full, URM_train, URM_test, URM_validation = splitURM(URM)"
   ]
  },
  {
   "cell_type": "code",
   "execution_count": 9,
   "metadata": {},
   "outputs": [
    {
     "name": "stdout",
     "output_type": "stream",
     "text": [
      "EvaluatorHoldout: Ignoring 2602 (20.6%) Users that have less than 1 test interactions\n",
      "EvaluatorHoldout: Ignoring 2227 (17.6%) Users that have less than 1 test interactions\n"
     ]
    }
   ],
   "source": [
    "evaluator_validation = EvaluatorHoldout(URM_validation, cutoff_list=[10])\n",
    "evaluator_test = EvaluatorHoldout(URM_test, cutoff_list=[10])"
   ]
  },
  {
   "cell_type": "code",
   "execution_count": 10,
   "metadata": {},
   "outputs": [],
   "source": [
    "output_folder_path = \"result_experiments/\"\n",
    "if not os.path.exists(output_folder_path):\n",
    "    os.makedirs(output_folder_path)\n",
    "\n",
    "saved_folder_path = \"result_best_models/\"\n",
    "if not os.path.exists(saved_folder_path):\n",
    "    os.makedirs(saved_folder_path)\n",
    "    \n",
    "recommender_class = ItemKNNCFRecommender    \n",
    "n_cases = 10\n",
    "n_random_starts = int(n_cases*0.3)\n",
    "metric_to_optimize = \"MAP\"   \n",
    "cutoff_to_optimize = 10"
   ]
  },
  {
   "cell_type": "code",
   "execution_count": 11,
   "metadata": {},
   "outputs": [
    {
     "name": "stdout",
     "output_type": "stream",
     "text": [
      "On recommender <class 'Recommenders.KNN.ItemKNNCFRecommender.ItemKNNCFRecommender'> Exception SearchBayesianSkopt: Resuming 'ItemKNNCFRecommender_jaccard' Failed due to inconsistent data. There cannot be both a valid result and an exception for the same case.\n"
     ]
    },
    {
     "name": "stderr",
     "output_type": "stream",
     "text": [
      "multiprocessing.pool.RemoteTraceback: \n",
      "\"\"\"\n",
      "Traceback (most recent call last):\n",
      "  File \"c:\\Users\\Simone\\anaconda3\\lib\\multiprocessing\\pool.py\", line 125, in worker\n",
      "    result = (True, func(*args, **kwds))\n",
      "  File \"c:\\Users\\Simone\\anaconda3\\lib\\multiprocessing\\pool.py\", line 48, in mapstar\n",
      "    return list(map(*args))\n",
      "  File \"c:\\Users\\Simone\\Desktop\\RecommenderSystemsChallenge\\HyperparameterTuning\\run_hyperparameter_search.py\", line 454, in run_KNNRecommender_on_similarity_type\n",
      "    hyperparameterSearch.search(recommender_input_args,\n",
      "  File \"c:\\Users\\Simone\\Desktop\\RecommenderSystemsChallenge\\HyperparameterTuning\\SearchBayesianSkopt.py\", line 329, in search\n",
      "    hyperparameters_list_input, result_on_validation_list_saved = self._resume_from_saved()\n",
      "  File \"c:\\Users\\Simone\\Desktop\\RecommenderSystemsChallenge\\HyperparameterTuning\\SearchBayesianSkopt.py\", line 188, in _resume_from_saved\n",
      "    assert is_exception == is_validation_valid,\\\n",
      "AssertionError: SearchBayesianSkopt: Resuming 'ItemKNNCFRecommender_jaccard' Failed due to inconsistent data. There cannot be both a valid result and an exception for the same case.\n",
      "\"\"\"\n",
      "\n",
      "The above exception was the direct cause of the following exception:\n",
      "\n",
      "Traceback (most recent call last):\n",
      "  File \"c:\\Users\\Simone\\Desktop\\RecommenderSystemsChallenge\\HyperparameterTuning\\run_hyperparameter_search.py\", line 727, in runHyperparameterSearch_Collaborative\n",
      "    pool.map(run_KNNCFRecommender_on_similarity_type_partial, similarity_type_list)\n",
      "  File \"c:\\Users\\Simone\\anaconda3\\lib\\multiprocessing\\pool.py\", line 364, in map\n",
      "    return self._map_async(func, iterable, mapstar, chunksize).get()\n",
      "  File \"c:\\Users\\Simone\\anaconda3\\lib\\multiprocessing\\pool.py\", line 771, in get\n",
      "    raise self._value\n",
      "  File \"c:\\Users\\Simone\\anaconda3\\lib\\multiprocessing\\pool.py\", line 125, in worker\n",
      "    result = (True, func(*args, **kwds))\n",
      "  File \"c:\\Users\\Simone\\anaconda3\\lib\\multiprocessing\\pool.py\", line 48, in mapstar\n",
      "    return list(map(*args))\n",
      "  File \"c:\\Users\\Simone\\Desktop\\RecommenderSystemsChallenge\\HyperparameterTuning\\run_hyperparameter_search.py\", line 454, in run_KNNRecommender_on_similarity_type\n",
      "    hyperparameterSearch.search(recommender_input_args,\n",
      "  File \"c:\\Users\\Simone\\Desktop\\RecommenderSystemsChallenge\\HyperparameterTuning\\SearchBayesianSkopt.py\", line 329, in search\n",
      "    hyperparameters_list_input, result_on_validation_list_saved = self._resume_from_saved()\n",
      "  File \"c:\\Users\\Simone\\Desktop\\RecommenderSystemsChallenge\\HyperparameterTuning\\SearchBayesianSkopt.py\", line 188, in _resume_from_saved\n",
      "    assert is_exception == is_validation_valid,\\\n",
      "AssertionError: SearchBayesianSkopt: Resuming 'ItemKNNCFRecommender_jaccard' Failed due to inconsistent data. There cannot be both a valid result and an exception for the same case.\n"
     ]
    }
   ],
   "source": [
    "runHyperparameterSearch_Collaborative(recommender_class,\n",
    "       URM_train = URM_train,\n",
    "       URM_train_last_test = URM_train_full,\n",
    "       metric_to_optimize = metric_to_optimize,\n",
    "       cutoff_to_optimize = cutoff_to_optimize,\n",
    "       evaluator_validation_earlystopping = evaluator_validation,\n",
    "       evaluator_validation = evaluator_validation,\n",
    "       evaluator_test = evaluator_test,\n",
    "       output_folder_path = output_folder_path,\n",
    "       parallelizeKNN = True,\n",
    "       allow_weighting = True,\n",
    "       resume_from_saved = True,\n",
    "       save_model = \"best\",\n",
    "       similarity_type_list = ['cosine', 'jaccard', \"asymmetric\", \"dice\", \"tversky\"],\n",
    "       n_cases = n_cases,\n",
    "       n_random_starts = n_random_starts)"
   ]
  },
  {
   "cell_type": "code",
   "execution_count": 12,
   "metadata": {},
   "outputs": [
    {
     "name": "stdout",
     "output_type": "stream",
     "text": [
      "ItemKNNCFRecommender: URM Detected 213 ( 1.7%) users with no interactions.\n",
      "ItemKNNCFRecommender: URM Detected 102 ( 0.5%) items with no interactions.\n",
      "ItemKNNCFRecommender: Loading model from file 'result_experiments/ItemKNNCFRecommender_tversky_best_model_last.zip'\n"
     ]
    },
    {
     "name": "stdout",
     "output_type": "stream",
     "text": [
      "ItemKNNCFRecommender: Loading complete\n"
     ]
    }
   ],
   "source": [
    "# load the model with all best parameters\n",
    "recommender_object = ItemKNNCFRecommender(URM_train_full)\n",
    "recommender_object.load_model(output_folder_path, file_name = recommender_object.RECOMMENDER_NAME + \"_tversky_best_model_last.zip\" )"
   ]
  },
  {
   "cell_type": "code",
   "execution_count": 13,
   "metadata": {},
   "outputs": [
    {
     "name": "stdout",
     "output_type": "stream",
     "text": [
      "TopPopRecommender: URM Detected 213 ( 1.7%) users with no interactions.\n",
      "TopPopRecommender: URM Detected 102 ( 0.5%) items with no interactions.\n",
      "TopPopRecommender: Loading model from file 'result_best_models/TopPopRecommender_my_own_save.zip'\n",
      "TopPopRecommender: Loading complete\n"
     ]
    }
   ],
   "source": [
    "# load the TopPop model with all best parameters\n",
    "recommender_object_top_pop = TopPop(URM_train_full)\n",
    "recommender_object_top_pop.load_model(saved_folder_path, file_name = recommender_object_top_pop.RECOMMENDER_NAME + \"_my_own_save.zip\" )"
   ]
  },
  {
   "cell_type": "code",
   "execution_count": 14,
   "metadata": {},
   "outputs": [],
   "source": [
    "# recommend items to users\n",
    "rec_items_ind = []\n",
    "for user_id in users_to_eval:\n",
    "    if(user_id in users):\n",
    "        # recommend users for which we already have some ratings\n",
    "        rec_items_ind.append(recommender_object.recommend(user_originalID_to_index[user_id], cutoff=10))\n",
    "    else:\n",
    "        # recommend users with no stored rating\n",
    "        rec_items_ind.append(recommender_object_top_pop.recommend(user_id, cutoff=10, remove_seen_flag=False))"
   ]
  },
  {
   "cell_type": "code",
   "execution_count": 15,
   "metadata": {},
   "outputs": [
    {
     "name": "stdout",
     "output_type": "stream",
     "text": [
      "MAP = 0.0771\n"
     ]
    }
   ],
   "source": [
    "# evaluate recommender\n",
    "evaluate_algorithm(URM_test, recommender_object)"
   ]
  },
  {
   "cell_type": "code",
   "execution_count": 16,
   "metadata": {},
   "outputs": [],
   "source": [
    "storeRecommendations(users_to_eval, rec_items_ind, item_index_to_originalID)"
   ]
  },
  {
   "cell_type": "code",
   "execution_count": null,
   "metadata": {},
   "outputs": [],
   "source": [
    "# save the model with all best parameters overwriting the old one\n",
    "#recommender_object.save_model(saved_folder_path, file_name = recommender_object.RECOMMENDER_NAME + \"_my_own_save.zip\" )"
   ]
  }
 ],
 "metadata": {
  "kernelspec": {
   "display_name": "base",
   "language": "python",
   "name": "python3"
  },
  "language_info": {
   "codemirror_mode": {
    "name": "ipython",
    "version": 3
   },
   "file_extension": ".py",
   "mimetype": "text/x-python",
   "name": "python",
   "nbconvert_exporter": "python",
   "pygments_lexer": "ipython3",
   "version": "3.9.7"
  }
 },
 "nbformat": 4,
 "nbformat_minor": 2
}
