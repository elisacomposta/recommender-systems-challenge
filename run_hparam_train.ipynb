{
 "cells": [
  {
   "cell_type": "code",
   "execution_count": 2,
   "metadata": {},
   "outputs": [],
   "source": [
    "from Utils.my_utils import *\n",
    "from Recommenders.GraphBased.P3alphaRecommender import *\n",
    "import numpy as np\n",
    "from Evaluation.Evaluator import EvaluatorHoldout\n",
    "from HyperparameterTuning.run_hyperparameter_search import runHyperparameterSearch_Collaborative\n",
    "from Recommenders.NonPersonalizedRecommender import *\n",
    "import os\n",
    "from random import randint, seed"
   ]
  },
  {
   "cell_type": "code",
   "execution_count": 3,
   "metadata": {},
   "outputs": [
    {
     "name": "stdout",
     "output_type": "stream",
     "text": [
      "Seed: 63\n",
      "Warning: 232 (1.84 %) of 12638 users have no train items\n",
      "Warning: 2189 (17.32 %) of 12638 users have no sampled items\n",
      "Warning: 465 (3.68 %) of 12638 users have no train items\n",
      "Warning: 2615 (20.69 %) of 12638 users have no sampled items\n"
     ]
    }
   ],
   "source": [
    "# setta anche il seed di random per sicurezza\n",
    "seed = randint(1,1000)\n",
    "print(\"Seed: \" +str(seed))\n",
    "np.random.seed(seed)\n",
    "users, items, users_to_eval = readData()\n",
    "URM, user_originalID_to_index, item_originalID_to_index, item_index_to_originalID = preProcess()\n",
    "URM_train_full, URM_train, URM_test, URM_validation = splitURM(URM)"
   ]
  },
  {
   "cell_type": "code",
   "execution_count": 4,
   "metadata": {},
   "outputs": [
    {
     "name": "stdout",
     "output_type": "stream",
     "text": [
      "EvaluatorHoldout: Ignoring 2615 (20.7%) Users that have less than 1 test interactions\n",
      "EvaluatorHoldout: Ignoring 2189 (17.3%) Users that have less than 1 test interactions\n"
     ]
    }
   ],
   "source": [
    "evaluator_validation = EvaluatorHoldout(URM_validation, cutoff_list=[10])\n",
    "evaluator_test = EvaluatorHoldout(URM_test, cutoff_list=[10])"
   ]
  },
  {
   "cell_type": "code",
   "execution_count": 5,
   "metadata": {},
   "outputs": [],
   "source": [
    "output_folder_path = \"result_experiments/\"\n",
    "if not os.path.exists(output_folder_path):\n",
    "    os.makedirs(output_folder_path)\n",
    "\n",
    "saved_folder_path = \"result_best_models/\"\n",
    "if not os.path.exists(saved_folder_path):\n",
    "    os.makedirs(saved_folder_path)\n",
    "    \n",
    "recommender_class = P3alphaRecommender    \n",
    "n_cases = 10\n",
    "n_random_starts = int(n_cases*0.3)\n",
    "metric_to_optimize = \"MAP\"   \n",
    "cutoff_to_optimize = 10"
   ]
  },
  {
   "cell_type": "code",
   "execution_count": 6,
   "metadata": {},
   "outputs": [],
   "source": [
    "runHyperparameterSearch_Collaborative(recommender_class,\n",
    "       URM_train = URM_train,\n",
    "       URM_train_last_test = URM_train_full,\n",
    "       metric_to_optimize = metric_to_optimize,\n",
    "       cutoff_to_optimize = cutoff_to_optimize,\n",
    "       evaluator_validation_earlystopping = evaluator_validation,\n",
    "       evaluator_validation = evaluator_validation,\n",
    "       evaluator_test = evaluator_test,\n",
    "       output_folder_path = output_folder_path,\n",
    "       parallelizeKNN = True,\n",
    "       allow_weighting = True,\n",
    "       resume_from_saved = True,\n",
    "       save_model = \"best\",\n",
    "       similarity_type_list = ['cosine', 'jaccard', \"asymmetric\", \"dice\", \"tversky\"],\n",
    "       n_cases = n_cases,\n",
    "       n_random_starts = n_random_starts)"
   ]
  },
  {
   "cell_type": "code",
   "execution_count": 7,
   "metadata": {},
   "outputs": [
    {
     "name": "stdout",
     "output_type": "stream",
     "text": [
      "ItemKNNCFRecommender: URM Detected 232 ( 1.8%) users with no interactions.\n",
      "ItemKNNCFRecommender: URM Detected 115 ( 0.5%) items with no interactions.\n",
      "ItemKNNCFRecommender: Loading model from file 'result_experiments/ItemKNNCFRecommender_tversky_best_model_last.zip'\n",
      "ItemKNNCFRecommender: Loading complete\n",
      "ItemKNNCFRecommender: URM Detected 232 ( 1.8%) users with no interactions.\n",
      "ItemKNNCFRecommender: URM Detected 115 ( 0.5%) items with no interactions.\n",
      "ItemKNNCFRecommender: Loading model from file 'result_experiments/ItemKNNCFRecommender_dice_best_model_last.zip'\n",
      "ItemKNNCFRecommender: Loading complete\n",
      "ItemKNNCFRecommender: URM Detected 232 ( 1.8%) users with no interactions.\n",
      "ItemKNNCFRecommender: URM Detected 115 ( 0.5%) items with no interactions.\n",
      "ItemKNNCFRecommender: Loading model from file 'result_experiments/ItemKNNCFRecommender_asymmetric_best_model_last.zip'\n",
      "ItemKNNCFRecommender: Loading complete\n",
      "ItemKNNCFRecommender: URM Detected 232 ( 1.8%) users with no interactions.\n",
      "ItemKNNCFRecommender: URM Detected 115 ( 0.5%) items with no interactions.\n",
      "ItemKNNCFRecommender: Loading model from file 'result_experiments/ItemKNNCFRecommender_jaccard_best_model_last.zip'\n",
      "ItemKNNCFRecommender: Loading complete\n",
      "ItemKNNCFRecommender: URM Detected 232 ( 1.8%) users with no interactions.\n",
      "ItemKNNCFRecommender: URM Detected 115 ( 0.5%) items with no interactions.\n",
      "ItemKNNCFRecommender: Loading model from file 'result_experiments/ItemKNNCFRecommender_cosine_best_model_last.zip'\n",
      "ItemKNNCFRecommender: Loading complete\n"
     ]
    }
   ],
   "source": [
    "# load the model with all best parameters\n",
    "recommender_object = P3alphaRecommender(URM_train_full)\n",
    "recommender_object.load_model(output_folder_path, file_name = recommender_object.RECOMMENDER_NAME + \"_best_model_last.zip\")"
   ]
  },
  {
   "cell_type": "code",
   "execution_count": 8,
   "metadata": {},
   "outputs": [
    {
     "name": "stdout",
     "output_type": "stream",
     "text": [
      "TopPopRecommender: URM Detected 232 ( 1.8%) users with no interactions.\n",
      "TopPopRecommender: URM Detected 115 ( 0.5%) items with no interactions.\n",
      "TopPopRecommender: Loading model from file 'result_best_models/TopPopRecommender_my_own_save.zip'\n",
      "TopPopRecommender: Loading complete\n"
     ]
    }
   ],
   "source": [
    "# load the TopPop model with all best parameters\n",
    "recommender_object_top_pop = TopPop(URM_train_full)\n",
    "recommender_object_top_pop.load_model(saved_folder_path, file_name = recommender_object_top_pop.RECOMMENDER_NAME + \"_my_own_save.zip\")"
   ]
  },
  {
   "cell_type": "code",
   "execution_count": 9,
   "metadata": {},
   "outputs": [],
   "source": [
    "# recommend items to users\n",
    "rec_items_ind = []\n",
    "for user_id in users_to_eval:\n",
    "    if(user_id in users):\n",
    "        # recommend users for which we already have some ratings\n",
    "        rec_items_ind.append(recommender_object.recommend(user_originalID_to_index[user_id], cutoff=10))\n",
    "    else:\n",
    "        # recommend users with no stored rating\n",
    "        rec_items_ind.append(recommender_object_top_pop.recommend(user_id, cutoff=10, remove_seen_flag=False))"
   ]
  },
  {
   "cell_type": "code",
   "execution_count": 10,
   "metadata": {},
   "outputs": [
    {
     "name": "stdout",
     "output_type": "stream",
     "text": [
      "tversky\n"
     ]
    },
    {
     "name": "stdout",
     "output_type": "stream",
     "text": [
      "MAP = 0.0938\n",
      "dice\n",
      "MAP = 0.0881\n",
      "asymmetric\n",
      "MAP = 0.0946\n",
      "jaccard\n",
      "MAP = 0.0887\n",
      "cosine\n",
      "MAP = 0.0877\n"
     ]
    }
   ],
   "source": [
    "# evaluate recommender\n",
    "evaluate_algorithm(URM_test, recommender_object)"
   ]
  },
  {
   "cell_type": "code",
   "execution_count": 11,
   "metadata": {},
   "outputs": [],
   "source": [
    "storeRecommendations(users_to_eval, rec_items_ind, item_index_to_originalID)"
   ]
  },
  {
   "cell_type": "code",
   "execution_count": 12,
   "metadata": {},
   "outputs": [],
   "source": [
    "# save the model with all best parameters overwriting the old one\n",
    "# recommender_object.save_model(saved_folder_path, file_name = recommender_object.RECOMMENDER_NAME + \"_my_own_save.zip\")"
   ]
  }
 ],
 "metadata": {
  "kernelspec": {
   "display_name": "base",
   "language": "python",
   "name": "python3"
  },
  "language_info": {
   "codemirror_mode": {
    "name": "ipython",
    "version": 3
   },
   "file_extension": ".py",
   "mimetype": "text/x-python",
   "name": "python",
   "nbconvert_exporter": "python",
   "pygments_lexer": "ipython3",
   "version": "3.9.7"
  }
 },
 "nbformat": 4,
 "nbformat_minor": 2
}
