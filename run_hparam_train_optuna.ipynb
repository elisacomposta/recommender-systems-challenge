{
 "cells": [
  {
   "cell_type": "code",
   "execution_count": null,
   "metadata": {},
   "outputs": [],
   "source": [
    "from Utils.my_utils import *\n",
    "from Recommenders.SLIM.SLIMElasticNetRecommender import *\n",
    "import numpy as np\n",
    "from Evaluation.Evaluator import EvaluatorHoldout\n",
    "import os\n",
    "import optuna\n",
    "import pandas as pd"
   ]
  },
  {
   "cell_type": "code",
   "execution_count": null,
   "metadata": {},
   "outputs": [],
   "source": [
    "users, items, users_to_eval = readData()\n",
    "URM = newPreProcess()\n",
    "URM_train, URM_validation = split_train_in_two_percentage_global_sample(URM, train_percentage = 0.80)\n",
    "evaluator_validation = EvaluatorHoldout(URM_validation, cutoff_list=[10])"
   ]
  },
  {
   "cell_type": "code",
   "execution_count": null,
   "metadata": {},
   "outputs": [],
   "source": [
    "def objective_function_SLIM(optuna_trial):\n",
    "    recommender_instance = MultiThreadSLIM_SLIMElasticNetRecommender(URM_train)\n",
    "    recommender_instance.fit(l1_ratio = optuna_trial.suggest_float(\"l1_ratio\", 1e-4, 0.1, log=True),\n",
    "                             alpha = optuna_trial.suggest_float(\"alpha\", 1e-3, 0.01),\n",
    "                             topK = optuna_trial.suggest_int(\"topK\", 1, 999))\n",
    "        \n",
    "    result_df, _ = evaluator_validation.evaluateRecommender(recommender_instance)\n",
    "    \n",
    "    return result_df.loc[10][\"MAP\"]"
   ]
  },
  {
   "cell_type": "code",
   "execution_count": null,
   "metadata": {},
   "outputs": [],
   "source": [
    "optuna_study = optuna.create_study(direction=\"maximize\")\n",
    "        \n",
    "save_results = SaveResults()\n",
    "        \n",
    "optuna_study.optimize(objective_function_SLIM,\n",
    "                      callbacks=[save_results],\n",
    "                      n_trials = 20)"
   ]
  },
  {
   "cell_type": "code",
   "execution_count": null,
   "metadata": {},
   "outputs": [],
   "source": [
    "idx = save_results.results_df['result'].idxmax()\n",
    "best_result = save_results.results_df.loc[idx][\"result\"]\n",
    "print(\"MAP: \" + str(best_result))\n",
    "with open('best_parameters.txt', 'w') as file:\n",
    "    file.write(optuna_study.best_trial.params)"
   ]
  },
  {
   "cell_type": "code",
   "execution_count": null,
   "metadata": {},
   "outputs": [],
   "source": [
    "# Best parameters found\n",
    "optuna_study.best_trial.params"
   ]
  },
  {
   "cell_type": "code",
   "execution_count": null,
   "metadata": {},
   "outputs": [],
   "source": [
    "# Fit with best parameters found\n",
    "recommender_instance = MultiThreadSLIM_SLIMElasticNetRecommender(URM)\n",
    "recommender_instance.fit(**optuna_study.best_trial.params)"
   ]
  },
  {
   "cell_type": "code",
   "execution_count": null,
   "metadata": {},
   "outputs": [],
   "source": [
    "# Recommend items to users\n",
    "recommendations = recommender_instance.recommend(users_to_eval, cutoff=10)\n",
    "\n",
    "# Store recommendations\n",
    "newStoreRecommendations(users_to_eval, recommendations)"
   ]
  }
 ],
 "metadata": {
  "kernelspec": {
   "display_name": "base",
   "language": "python",
   "name": "python3"
  },
  "language_info": {
   "codemirror_mode": {
    "name": "ipython",
    "version": 3
   },
   "file_extension": ".py",
   "mimetype": "text/x-python",
   "name": "python",
   "nbconvert_exporter": "python",
   "pygments_lexer": "ipython3",
   "version": "3.9.7"
  }
 },
 "nbformat": 4,
 "nbformat_minor": 2
}
