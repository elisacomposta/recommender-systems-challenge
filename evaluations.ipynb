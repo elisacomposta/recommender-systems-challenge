{
 "cells": [
  {
   "cell_type": "markdown",
   "metadata": {},
   "source": [
    "# Evaluation of algorithms\n",
    "| RECOMMENDER | Evaluator | Submission\n",
    "| --- | --- | --- |\n",
    "| TopPop | 0.0208 | 0.02439 |\n",
    "| **Item CF KNN** | **0.0935** | **0.09636** |\n",
    "| SLIM | 0.0446 | 0.04811 |\n",
    "| Pure SVD | 0.0542 | 0.05661 |\n",
    "| Pure SVD Item | 0.0540 | ? |\n",
    "| P3alpha | 0.0675 | ? |\n",
    "| RP3beta | 0.0776 | 0.05765 |\n",
    "| NMF | 0.0496 | ? |\n",
    "| MF SVD++ | 0.0439 | ? |\n"
   ]
  },
  {
   "cell_type": "markdown",
   "metadata": {},
   "source": []
  }
 ],
 "metadata": {
  "language_info": {
   "name": "python"
  }
 },
 "nbformat": 4,
 "nbformat_minor": 2
}
