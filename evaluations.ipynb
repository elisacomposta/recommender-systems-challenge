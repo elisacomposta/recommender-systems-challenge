{
 "cells": [
  {
   "cell_type": "markdown",
   "metadata": {},
   "source": [
    "# Evaluation of algorithms\n",
    "Results of evaluations of old models, using Top Pop for new users.\n"
   ]
  },
  {
   "cell_type": "markdown",
   "metadata": {},
   "source": [
    "| RECOMMENDER | Evaluator | Submission | Seed | n_cases | Training time |\n",
    "| --- | --- | --- | --- | --- | --- |\n",
    "| TopPop | 0.0208 | 0.02439 | 1234 | - | - |\n",
    "| <span style=\"color:green\">**Item CF KNN**</span> | **0.0935** | **0.09636** | 1234 | - | - | \n",
    "| SLIM | 0.0446 | 0.04811 | 1234 | - | - |\n",
    "| Pure SVD | 0.0542 | 0.05661 | 1234 | - | - |\n",
    "| Pure SVD Item | 0.0540 | - | 1234 | - | - |\n",
    "| P3alpha | 0.0927 | - | 787 | 500 | 4 h |\n",
    "| RP3beta | 0.0937 | 0.09218 | 204 | 100 | 43 min |\n",
    "| <span style=\"color:green\">**RP3beta_old**</span> | **0.0960** | **0.09478** | 223 | 350 | 148 min |\n",
    "| NMF | 0.0496 | - | 1234 | - | - |\n",
    "| MF SVD++ | 0.0439 | - | 1234 | - | - |"
   ]
  },
  {
   "cell_type": "markdown",
   "metadata": {},
   "source": [
    "Results of evaluations of new models."
   ]
  },
  {
   "cell_type": "markdown",
   "metadata": {},
   "source": [
    "| RECOMMENDER | Evaluator | Submission | Seed | n_cases | Training time |\n",
    "| --- | --- | --- | --- | --- | --- |\n",
    "| RP3beta_new | 0.0946 | 0.09261 | 21 | 300 | 117 min |\n",
    "| SLIM elastic | 0.0828 | - | 319 | 10 | 79 min |"
   ]
  },
  {
   "cell_type": "markdown",
   "metadata": {},
   "source": []
  }
 ],
 "metadata": {
  "language_info": {
   "name": "python"
  }
 },
 "nbformat": 4,
 "nbformat_minor": 2
}
