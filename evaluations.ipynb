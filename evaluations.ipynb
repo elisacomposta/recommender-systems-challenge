{
 "cells": [
  {
   "cell_type": "markdown",
   "metadata": {},
   "source": [
    "# Evaluation of algorithms\n",
    "Results of evaluations of new models.<br>\n",
    "\n",
    "**NOTE**<br>\n",
    "- the following have been evaluated with cutoff at=10\n",
    "- RP3beta, SLIM 865 non migliora più di così\n",
    "\n",
    "**TO DO**\n",
    "- provare hybrid con 7-3 invece che 5-5"
   ]
  },
  {
   "cell_type": "markdown",
   "metadata": {},
   "source": [
    "| RECOMMENDER | Evaluator | Submission | Seed | n_cases | Training time |\n",
    "| --- | --- | --- | --- | --- | --- |\n",
    "| SLIM elastic | 0.0858 | 0.09585 | 565 | 50 | 486 min |\n",
    "| RP3beta | 0.0823 | - | 565 | 100 | 1h |\n",
    "| SLIM + RP3beta | 0.0832 | 0.09581 | 565 | - | - |\n",
    "|  |  |  |  |  |  |\n",
    "| <span style=\"color:green\">**SLIM elastic**</span> | **0.0859** | **0.09761** | 865 | 100 | ~17h 30 min |\n",
    "| RP3beta | 0.0814 | - | 865 | 600 | 5h 30 min | \n",
    "| SLIM + RP3beta | 0.0847 | - | 865 | - | - |\n",
    "|  |  |  |  |  |  |\n",
    "| SLIM | 0.0802 | - | 259 | 10 | 150 min |\n",
    "|  |  |  |  |  |  |\n",
    "| **SLIM elastic** | **0.0878** | **0.09653** | 31 |  |  |\n",
    "|  |  |  |  |  |  |"
   ]
  },
  {
   "cell_type": "markdown",
   "metadata": {},
   "source": [
    "## Risoluzione problemi Colab\n",
    "- cannot import lightFM per pyproject.toml -> !pip install lightfm, senza versione\n",
    "- quando iporti hyper param ecc, build wheel ecc -> installa scikit optimize"
   ]
  },
  {
   "cell_type": "markdown",
   "metadata": {},
   "source": [
    "## Results folders\n",
    "- results_best_models: migliori modelli salvati volontariamente dopo il tuning, suddivisi per seed. Potrebbe essere utile spostare dentro anche gli altri file di search ecc, così da poter continuare una evaluations successivamente senza dover ripetere il tuning da capo\n",
    "- results experiments: output generati dal tuning\n",
    "- results_best_models_old: vecchi risultati, con la top pop"
   ]
  },
  {
   "cell_type": "markdown",
   "metadata": {},
   "source": [
    "__________________________________________"
   ]
  },
  {
   "cell_type": "markdown",
   "metadata": {},
   "source": [
    "\n",
    "## Evaluations new (but wrong)\n",
    "- THE FOLLOWING WERE EVALUATED WITH CUTOFF at=5!<br>\n",
    "- SLIM elastic n_cases=100 si è fermato alla 51. \"Iteration No: 51 ended. Search finished for the next optimal point\".\n",
    "\n",
    "| RECOMMENDER | Evaluator | Submission | Seed | n_cases | Training time |\n",
    "| --- | --- | --- | --- | --- | --- |\n",
    "| RP3beta_new | 0.0946 | 0.09261 | 21 | 300 | 117 min |\n",
    "| SLIM elastic | 0.0990 | 0.9585 | 565 | 50 | 486 min |\n",
    "| ItemKNN | 0.08 | - | 992 | 20 | 40 min| "
   ]
  },
  {
   "cell_type": "markdown",
   "metadata": {},
   "source": [
    "## Old evaluations\n",
    "Results of evaluations of old models, using Top Pop for new users.\n",
    "| RECOMMENDER | Evaluator | Submission | Seed | n_cases | Training time |\n",
    "| --- | --- | --- | --- | --- | --- |\n",
    "| TopPop | 0.0208 | 0.02439 | 1234 | - | - |\n",
    "| Item CF KNN | 0.0935 | 0.09636 | 1234 | - | - | \n",
    "| SLIM | 0.0446 | 0.04811 | 1234 | - | - |\n",
    "| Pure SVD | 0.0542 | 0.05661 | 1234 | - | - |\n",
    "| Pure SVD Item | 0.0540 | - | 1234 | - | - |\n",
    "| P3alpha | 0.0927 | - | 787 | 500 | 4 h |\n",
    "| RP3beta | 0.0937 | 0.09218 | 204 | 100 | 43 min |\n",
    "| RP3beta_old | 0.0960 | 0.09478 | 223 | 350 | 148 min |\n",
    "| NMF | 0.0496 | - | 1234 | - | - |\n",
    "| MF SVD++ | 0.0439 | - | 1234 | - | - |"
   ]
  }
 ],
 "metadata": {
  "language_info": {
   "name": "python"
  }
 },
 "nbformat": 4,
 "nbformat_minor": 2
}
